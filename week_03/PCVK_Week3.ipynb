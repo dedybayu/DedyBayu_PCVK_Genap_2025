{
 "cells": [
  {
   "cell_type": "markdown",
   "id": "2a60bf42",
   "metadata": {},
   "source": [
    "# Transformasi Linier Brightness"
   ]
  }
 ],
 "metadata": {
  "language_info": {
   "name": "python"
  }
 },
 "nbformat": 4,
 "nbformat_minor": 5
}
