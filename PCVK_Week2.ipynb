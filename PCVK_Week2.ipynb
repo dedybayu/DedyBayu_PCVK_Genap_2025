{
 "cells": [
  {
   "cell_type": "code",
   "execution_count": null,
   "id": "dbe23523",
   "metadata": {},
   "outputs": [],
   "source": [
    "aaa"
   ]
  }
 ],
 "metadata": {
  "language_info": {
   "name": "python"
  }
 },
 "nbformat": 4,
 "nbformat_minor": 5
}
