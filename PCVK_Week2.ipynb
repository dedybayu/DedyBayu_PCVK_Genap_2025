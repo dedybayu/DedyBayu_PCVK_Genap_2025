{
  "cells": [
    {
      "cell_type": "code",
      "execution_count": null,
      "id": "dbe23523",
      "metadata": {
        "id": "dbe23523"
      },
      "outputs": [],
      "source": [
        "aaa"
      ]
    },
    {
      "cell_type": "code",
      "source": [
        "from google.colab import drive\n",
        "drive.mount('/content/drive')"
      ],
      "metadata": {
        "id": "zjuQImXWF1Dx",
        "outputId": "e853e7e9-f44b-40fd-9b9c-c07c5ab2088e",
        "colab": {
          "base_uri": "https://localhost:8080/"
        }
      },
      "id": "zjuQImXWF1Dx",
      "execution_count": 1,
      "outputs": [
        {
          "output_type": "stream",
          "name": "stdout",
          "text": [
            "Mounted at /content/drive\n"
          ]
        }
      ]
    }
  ],
  "metadata": {
    "language_info": {
      "name": "python"
    },
    "colab": {
      "provenance": []
    },
    "kernelspec": {
      "name": "python3",
      "display_name": "Python 3"
    }
  },
  "nbformat": 4,
  "nbformat_minor": 5
}